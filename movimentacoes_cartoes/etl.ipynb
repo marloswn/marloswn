{
 "cells": [
  {
   "cell_type": "code",
   "execution_count": null,
   "metadata": {},
   "outputs": [],
   "source": [
    "# Import das libs necessárias - caso não possua alguma, basta utilizar o comando: !pip install <nome_da_lib>\n",
    "\n",
    "import pandas as pd\n",
    "import os\n",
    "import MySQLdb\n",
    "import sqlalchemy\n",
    "import tkinter \n",
    "from tkinter import filedialog"
   ]
  },
  {
   "cell_type": "code",
   "execution_count": null,
   "metadata": {},
   "outputs": [],
   "source": [
    "# Realizando a conexao com o MySQL - necessário ter um usuário permissionado para realizar a conexao\n",
    "\n",
    "user = 'marlos'\n",
    "password = '123456'\n",
    "host = 'localhost'\n",
    "database = 'movimentacoes_cartoes'\n",
    "\n",
    "string_con = f'mysql://{user}:{password}@{host}/{database}'\n",
    "engine = sqlalchemy.create_engine(string_con)\n",
    "conn = engine.connect()"
   ]
  },
  {
   "cell_type": "code",
   "execution_count": null,
   "metadata": {},
   "outputs": [],
   "source": [
    "# Lendo os dados necessários para criação do arquivo\n",
    "\n",
    "df_movimento_flat = pd.read_sql('dm_movimento_flat', con=conn)"
   ]
  },
  {
   "cell_type": "code",
   "execution_count": null,
   "metadata": {},
   "outputs": [],
   "source": [
    "# Salvando o dataset em arquivo CSV\n",
    "\n",
    "df_movimento_flat.to_csv('movimento_flat.csv', sep=';', index=False, encoding='latin-1')"
   ]
  },
  {
   "cell_type": "code",
   "execution_count": null,
   "metadata": {},
   "outputs": [],
   "source": [
    "# Fechando a conexão com o banco\n",
    "\n",
    "conn.close()"
   ]
  },
  {
   "cell_type": "code",
   "execution_count": null,
   "metadata": {},
   "outputs": [],
   "source": []
  }
 ],
 "metadata": {
  "kernelspec": {
   "display_name": "Python 3",
   "language": "python",
   "name": "python3"
  },
  "language_info": {
   "codemirror_mode": {
    "name": "ipython",
    "version": 3
   },
   "file_extension": ".py",
   "mimetype": "text/x-python",
   "name": "python",
   "nbconvert_exporter": "python",
   "pygments_lexer": "ipython3",
   "version": "3.8.5"
  }
 },
 "nbformat": 4,
 "nbformat_minor": 4
}
